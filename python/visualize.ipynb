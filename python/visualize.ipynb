{
 "cells": [
  {
   "cell_type": "code",
   "execution_count": 73,
   "metadata": {
    "collapsed": false
   },
   "outputs": [
    {
     "name": "stdout",
     "output_type": "stream",
     "text": [
      "float64\n"
     ]
    }
   ],
   "source": [
    "import numpy as np\n",
    "\n",
    "# num * dim\n",
    "uavs = np.array([\n",
    "        [-2. ,  2.],\n",
    "        [-2. , -2.],\n",
    "        [ 2. , -2.],\n",
    "        [ 2. ,  2.]\n",
    "    ])\n",
    "# dim * num\n",
    "sos = np.array([\n",
    "        [5., 5., 8., 8.],\n",
    "        [4., 1., 1., 4.]\n",
    "    ])\n",
    "dos = np.array([\n",
    "        [10., 10., 11., 11.],\n",
    "        [10.,  9.,  9., 10.]\n",
    "    ])\n",
    "# num * dim\n",
    "uavsDir = np.array([\n",
    "        [-2. , 12.],\n",
    "        [-2. ,  8.],\n",
    "        [ 2. ,  8.],\n",
    "        [ 2. , 12.]\n",
    "    ])\n",
    "# gDir\n",
    "gDir = np.array([0, 10])\n",
    "\n",
    "\n",
    "a = np.array([[          1, 2.02739e-05],\n",
    "  [          1,           0],\n",
    "  [          0,           1],\n",
    "  [         -1,          -0],\n",
    "  [         -0,          -1],\n",
    "  [   0.994616,   -0.103633],\n",
    "  [          1,           0],\n",
    "  [          0,           1],\n",
    "  [         -1,          -0],\n",
    "  [         -0,          -1]])\n",
    "b = np.array([[3.99996],\n",
    "  [  10000],\n",
    "  [  10000],\n",
    "  [  10000],\n",
    "  [  10000],\n",
    "  [3.46031],\n",
    "  [  10000],\n",
    "  [  10000],\n",
    "  [  10000],\n",
    "  [  10000]])\n",
    "\n",
    "print a.dtype"
   ]
  },
  {
   "cell_type": "code",
   "execution_count": 74,
   "metadata": {
    "collapsed": false
   },
   "outputs": [
    {
     "data": {
      "text/plain": [
       "<matplotlib.patches.Circle at 0x7f6f46453790>"
      ]
     },
     "execution_count": 74,
     "metadata": {},
     "output_type": "execute_result"
    }
   ],
   "source": [
    "import numpy as np\n",
    "import matplotlib.pyplot as plt\n",
    "from matplotlib.patches import Polygon\n",
    "import irispy\n",
    "\n",
    "fig = plt.figure(figsize=(8,8), dpi=80)\n",
    "\n",
    "ax = fig.add_subplot(111)\n",
    "ax.spines['right'].set_color('none')\n",
    "ax.spines['top'].set_color('none')\n",
    "ax.xaxis.set_ticks_position('bottom')\n",
    "ax.spines['bottom'].set_position('zero')\n",
    "ax.yaxis.set_ticks_position('left')\n",
    "ax.spines['left'].set_position(('data',0))\n",
    "\n",
    "x_min = -8\n",
    "x_max = 28\n",
    "y_min = -8\n",
    "y_max = 28\n",
    "ax.set_xlim(x_min,x_max), ax.set_xticks(np.linspace(x_min,x_max,(x_max-x_min+1),endpoint=True))\n",
    "ax.set_ylim(y_min,y_max), ax.set_yticks(np.linspace(y_min,y_max,(y_max-y_min+1),endpoint=True))\n",
    "\n",
    "uavRadius = 1\n",
    "for pos in uavs:\n",
    "    circle = plt.Circle(pos, uavRadius, color='blue')\n",
    "    uavsAx = ax.add_artist(circle)\n",
    "\n",
    "uavsDirRadius = 0.2\n",
    "for pos in uavsDir:\n",
    "    circle = plt.Circle(pos, uavsDirRadius, color='g')\n",
    "    ax.add_artist(circle)\n",
    "\n",
    "gDirRadius = 0.2\n",
    "circle = plt.Circle(gDir, gDirRadius, color='r')\n",
    "ax.add_artist(circle)\n",
    "\n",
    "    \n",
    "sos = np.array([\n",
    "        [5., 5., 8., 8.],\n",
    "        [4., 1., 1., 4.]\n",
    "    ])\n",
    "polygon = Polygon(sos.T, True, color='grey')\n",
    "patchSos = ax.add_patch(polygon)\n",
    "\n",
    "dos = np.array([\n",
    "        [10., 10., 11., 11.],\n",
    "        [10.,  9.,  9., 10.]\n",
    "    ])\n",
    "polygon = Polygon(dos.T, True, color='y')\n",
    "patchDos = ax.add_patch(polygon)\n",
    "\n",
    "p = irispy.Polyhedron(a, b)\n",
    "p.draw(edgecolor='g', facecolor='g', alpha=0.3)\n",
    "\n",
    "    \n",
    "def update(frame):\n",
    "    dos = patchDos.get_xy()\n",
    "    dos[:,1] = dos[:,1] - 1\n",
    "    patchDos.set_xy(dos)\n",
    "\n",
    "    # Return the modified object\n",
    "    return patchDos,\n",
    "\n",
    "import matplotlib.animation as animation\n",
    "animation = animation.FuncAnimation(fig, update, interval=10, blit=True, frames=200)\n",
    "# animation.save('rain.gif', writer='imagemagick', fps=30, dpi=40)\n",
    "    \n",
    "    \n",
    "# Show result on screen\n",
    "plt.show()\n",
    "\n",
    "uavsAx"
   ]
  },
  {
   "cell_type": "code",
   "execution_count": 75,
   "metadata": {
    "collapsed": false
   },
   "outputs": [],
   "source": [
    "import numpy as np\n",
    "\n",
    "import matplotlib.pyplot as plt\n",
    "import matplotlib\n",
    "from matplotlib.patches import Polygon\n",
    "from matplotlib.collections import PatchCollection\n",
    "\n",
    "fig, ax = plt.subplots()\n",
    "x_min = -4\n",
    "x_max = 14\n",
    "y_min = -4\n",
    "y_max = 14\n",
    "ax.set_xlim(x_min,x_max), ax.set_xticks(np.linspace(x_min,x_max,x_max-x_min+1,endpoint=True))\n",
    "ax.set_ylim(y_min,y_max), ax.set_yticks(np.linspace(y_min,y_max,y_max-y_min+1,endpoint=True))\n",
    "\n",
    "patches = []\n",
    "\n",
    "sos = np.array([\n",
    "        [5., 5., 8., 8.],\n",
    "        [4., 1., 1., 4.]\n",
    "    ])\n",
    "polygon = Polygon(sos.T, True, color='g')\n",
    "patches.append(polygon)\n",
    "\n",
    "dos = np.array([\n",
    "        [10., 10., 11., 11.],\n",
    "        [10.,  9.,  9., 10.]\n",
    "    ])\n",
    "polygon = Polygon(dos.T, True, color='r')\n",
    "patches.append(polygon)\n",
    "\n",
    "p = PatchCollection(patches, match_original=True)\n",
    "\n",
    "#ax.add_patch(polygon)\n",
    "ax.add_collection(p)\n",
    "\n",
    "plt.show()"
   ]
  },
  {
   "cell_type": "code",
   "execution_count": 76,
   "metadata": {
    "collapsed": false
   },
   "outputs": [],
   "source": [
    "import numpy as np\n",
    "\n",
    "import matplotlib.pyplot as plt\n",
    "import matplotlib\n",
    "from matplotlib.patches import Polygon\n",
    "from matplotlib.collections import PatchCollection\n",
    "\n",
    "fig, ax = plt.subplots()\n",
    "patches = []\n",
    "N = 5\n",
    "\n",
    "for i in range(N):\n",
    "    polygon = Polygon(np.random.rand(N,2), True)\n",
    "    patches.append(polygon)\n",
    "\n",
    "p = PatchCollection(patches, cmap=matplotlib.cm.jet, alpha=0.4)\n",
    "\n",
    "colors = 100*np.random.rand(len(patches))\n",
    "p.set_array(np.array(colors))\n",
    "\n",
    "ax.add_collection(p)\n",
    "\n",
    "plt.show()"
   ]
  },
  {
   "cell_type": "code",
   "execution_count": 77,
   "metadata": {
    "collapsed": false
   },
   "outputs": [],
   "source": [
    "import matplotlib.pyplot as plt\n",
    "import matplotlib.collections as collections\n",
    "import matplotlib.ticker as ticker\n",
    "\n",
    "import matplotlib\n",
    "#print matplotlib.__version__ # 0.99.3\n",
    "\n",
    "fig=plt.figure() #pylab.figure()\n",
    "ax=fig.add_subplot(111)\n",
    "\n",
    "ax.set_xlim([-400, -380]) #pylab.xlim([-400, 400])\n",
    "ax.set_ylim([-400, -380]) #pylab.ylim([-400, 400])\n",
    "patches = []\n",
    "polygon = plt.Rectangle((-400, -400), 10, 10, color='yellow') #Rectangle((-400, -400), 10, 10, color='y')\n",
    "patches.append(polygon)\n",
    "\n",
    "pol2 = plt.Rectangle((-390, -390), 10, 10, facecolor='yellow', edgecolor='violet', linewidth=2.0)\n",
    "ax.add_artist(pol2)\n",
    "\n",
    "\n",
    "p = collections.PatchCollection(patches) #, cmap=matplotlib.cm.jet)\n",
    "ax.add_collection(p)\n",
    "ax.xaxis.set_major_locator(ticker.MultipleLocator(20)) # (MultipleLocator(20)) \n",
    "ax.yaxis.set_major_locator(ticker.MultipleLocator(20)) # (MultipleLocator(20)) \n",
    "\n",
    "plt.show() #pylab.show()"
   ]
  },
  {
   "cell_type": "code",
   "execution_count": 78,
   "metadata": {
    "collapsed": false
   },
   "outputs": [
    {
     "ename": "SyntaxError",
     "evalue": "invalid syntax (<ipython-input-78-5c266fe439cf>, line 2)",
     "output_type": "error",
     "traceback": [
      "\u001b[0;36m  File \u001b[0;32m\"<ipython-input-78-5c266fe439cf>\"\u001b[0;36m, line \u001b[0;32m2\u001b[0m\n\u001b[0;31m    x =\u001b[0m\n\u001b[0m       ^\u001b[0m\n\u001b[0;31mSyntaxError\u001b[0m\u001b[0;31m:\u001b[0m invalid syntax\n"
     ]
    }
   ],
   "source": [
    "x = 10\n",
    "x ="
   ]
  },
  {
   "cell_type": "code",
   "execution_count": null,
   "metadata": {
    "collapsed": false
   },
   "outputs": [],
   "source": [
    "import irispy"
   ]
  },
  {
   "cell_type": "code",
   "execution_count": null,
   "metadata": {
    "collapsed": false
   },
   "outputs": [],
   "source": [
    "a = np.array([1,2,3,4,5,6])\n",
    "a.resize(3,2)\n",
    "a"
   ]
  },
  {
   "cell_type": "code",
   "execution_count": null,
   "metadata": {
    "collapsed": true
   },
   "outputs": [],
   "source": []
  }
 ],
 "metadata": {
  "kernelspec": {
   "display_name": "Python 2",
   "language": "python",
   "name": "python2"
  },
  "language_info": {
   "codemirror_mode": {
    "name": "ipython",
    "version": 2
   },
   "file_extension": ".py",
   "mimetype": "text/x-python",
   "name": "python",
   "nbconvert_exporter": "python",
   "pygments_lexer": "ipython2",
   "version": "2.7.12"
  }
 },
 "nbformat": 4,
 "nbformat_minor": 1
}
